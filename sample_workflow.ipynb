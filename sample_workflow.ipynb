{
 "cells": [
  {
   "cell_type": "code",
   "execution_count": 1,
   "metadata": {},
   "outputs": [],
   "source": [
    "from budgetpanda import BudgetPanda"
   ]
  },
  {
   "cell_type": "code",
   "execution_count": 2,
   "metadata": {},
   "outputs": [],
   "source": [
    "panda = BudgetPanda()"
   ]
  },
  {
   "cell_type": "code",
   "execution_count": 3,
   "metadata": {},
   "outputs": [
    {
     "data": {
      "text/html": [
       "<div>\n",
       "<style scoped>\n",
       "    .dataframe tbody tr th:only-of-type {\n",
       "        vertical-align: middle;\n",
       "    }\n",
       "\n",
       "    .dataframe tbody tr th {\n",
       "        vertical-align: top;\n",
       "    }\n",
       "\n",
       "    .dataframe thead th {\n",
       "        text-align: right;\n",
       "    }\n",
       "</style>\n",
       "<table border=\"1\" class=\"dataframe\">\n",
       "  <thead>\n",
       "    <tr style=\"text-align: right;\">\n",
       "      <th></th>\n",
       "      <th>Account Name</th>\n",
       "      <th>Category</th>\n",
       "      <th>Date</th>\n",
       "      <th>Description</th>\n",
       "      <th>Amount</th>\n",
       "      <th>Transaction Type</th>\n",
       "    </tr>\n",
       "  </thead>\n",
       "  <tbody>\n",
       "    <tr>\n",
       "      <th>164</th>\n",
       "      <td>Chase Sapphire Reserve</td>\n",
       "      <td>Restaurants</td>\n",
       "      <td>2018-12-02</td>\n",
       "      <td>Bulkogi Truck</td>\n",
       "      <td>19.48</td>\n",
       "      <td>debit</td>\n",
       "    </tr>\n",
       "    <tr>\n",
       "      <th>165</th>\n",
       "      <td>Chase Sapphire Reserve</td>\n",
       "      <td>Restaurants</td>\n",
       "      <td>2018-12-02</td>\n",
       "      <td>Napoli Cafe</td>\n",
       "      <td>12.00</td>\n",
       "      <td>debit</td>\n",
       "    </tr>\n",
       "    <tr>\n",
       "      <th>162</th>\n",
       "      <td>Chase Sapphire Reserve</td>\n",
       "      <td>Restaurants</td>\n",
       "      <td>2018-12-02</td>\n",
       "      <td>Luna Rotisserie</td>\n",
       "      <td>25.00</td>\n",
       "      <td>debit</td>\n",
       "    </tr>\n",
       "    <tr>\n",
       "      <th>167</th>\n",
       "      <td>Chase Sapphire Reserve</td>\n",
       "      <td>Material Goods</td>\n",
       "      <td>2018-12-02</td>\n",
       "      <td>New York Times</td>\n",
       "      <td>5.00</td>\n",
       "      <td>debit</td>\n",
       "    </tr>\n",
       "    <tr>\n",
       "      <th>166</th>\n",
       "      <td>Chase Sapphire Reserve</td>\n",
       "      <td>Restaurants</td>\n",
       "      <td>2018-12-02</td>\n",
       "      <td>Chirba Chirba Dumplin</td>\n",
       "      <td>17.74</td>\n",
       "      <td>debit</td>\n",
       "    </tr>\n",
       "  </tbody>\n",
       "</table>\n",
       "</div>"
      ],
      "text/plain": [
       "               Account Name        Category       Date            Description  \\\n",
       "164  Chase Sapphire Reserve     Restaurants 2018-12-02          Bulkogi Truck   \n",
       "165  Chase Sapphire Reserve     Restaurants 2018-12-02            Napoli Cafe   \n",
       "162  Chase Sapphire Reserve     Restaurants 2018-12-02        Luna Rotisserie   \n",
       "167  Chase Sapphire Reserve  Material Goods 2018-12-02         New York Times   \n",
       "166  Chase Sapphire Reserve     Restaurants 2018-12-02  Chirba Chirba Dumplin   \n",
       "\n",
       "     Amount Transaction Type  \n",
       "164   19.48            debit  \n",
       "165   12.00            debit  \n",
       "162   25.00            debit  \n",
       "167    5.00            debit  \n",
       "166   17.74            debit  "
      ]
     },
     "execution_count": 3,
     "metadata": {},
     "output_type": "execute_result"
    }
   ],
   "source": [
    "previous_month = panda.get_last_month_df(panda.transaction_df)\n",
    "previous_month.head(n=5)"
   ]
  },
  {
   "cell_type": "code",
   "execution_count": 4,
   "metadata": {},
   "outputs": [
    {
     "data": {
      "text/plain": [
       "Restaurants            48\n",
       "Material Goods         33\n",
       "Coffee                  9\n",
       "Recurring               9\n",
       "Transfer                8\n",
       "Income                  8\n",
       "Health                  7\n",
       "Credit Card Payment     7\n",
       "Transportation          3\n",
       "Groceries               2\n",
       "Utilities               2\n",
       "Experiences             2\n",
       "Rent                    1\n",
       "Name: Category, dtype: int64"
      ]
     },
     "execution_count": 4,
     "metadata": {},
     "output_type": "execute_result"
    }
   ],
   "source": [
    "previous_month.Category.value_counts()"
   ]
  },
  {
   "cell_type": "code",
   "execution_count": 1,
   "metadata": {},
   "outputs": [
    {
     "ename": "NameError",
     "evalue": "name 'panda' is not defined",
     "output_type": "error",
     "traceback": [
      "\u001b[0;31m---------------------------------------------------------------------------\u001b[0m",
      "\u001b[0;31mNameError\u001b[0m                                 Traceback (most recent call last)",
      "\u001b[0;32m<ipython-input-1-8a1fcf261176>\u001b[0m in \u001b[0;36m<module>\u001b[0;34m\u001b[0m\n\u001b[0;32m----> 1\u001b[0;31m \u001b[0mpanda\u001b[0m\u001b[0;34m.\u001b[0m\u001b[0mget_category_df\u001b[0m\u001b[0;34m(\u001b[0m\u001b[0mprevious_month\u001b[0m\u001b[0;34m,\u001b[0m \u001b[0;34m\"Experiences\"\u001b[0m\u001b[0;34m)\u001b[0m\u001b[0;34m\u001b[0m\u001b[0m\n\u001b[0m",
      "\u001b[0;31mNameError\u001b[0m: name 'panda' is not defined"
     ]
    }
   ],
   "source": [
    "panda.get_category_df(previous_month, \"Experiences\")"
   ]
  },
  {
   "cell_type": "code",
   "execution_count": null,
   "metadata": {},
   "outputs": [],
   "source": []
  }
 ],
 "metadata": {
  "kernelspec": {
   "display_name": "Python 3",
   "language": "python",
   "name": "python3"
  },
  "language_info": {
   "codemirror_mode": {
    "name": "ipython",
    "version": 3
   },
   "file_extension": ".py",
   "mimetype": "text/x-python",
   "name": "python",
   "nbconvert_exporter": "python",
   "pygments_lexer": "ipython3",
   "version": "3.6.4"
  }
 },
 "nbformat": 4,
 "nbformat_minor": 2
}
